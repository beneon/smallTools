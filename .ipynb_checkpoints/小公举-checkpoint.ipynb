{
 "cells": [
  {
   "cell_type": "markdown",
   "metadata": {},
   "source": [
    "# 若干小工具\n",
    "\n",
    "## 将剪贴板内容去掉\\n，去掉中文之间空格"
   ]
  },
  {
   "cell_type": "code",
   "execution_count": null,
   "metadata": {
    "collapsed": true,
    "scrolled": true
   },
   "outputs": [],
   "source": [
    "import pyperclip, re\n",
    "txtsrc = pyperclip.paste()\n",
    "reReturn = re.compile(r'\\r|\\n|\\r\\n')\n",
    "reSpcBetwnChnChara = re.compile(r'([\\u4e00-\\u9fa5])\\s+([\\u4e00-\\u9fa5])')\n",
    "txtsrc = re.sub(reReturn,'',txtsrc)\n",
    "txtsrc = re.sub(reSpcBetwnChnChara,r'\\1\\2',txtsrc)\n",
    "\n",
    "dict_key = r\"１２３４５６７８９０ａｂｃｄｅｆｇｈｉｊｋｌｍｎｏｐｑｒｓｔｕｖｗｘｙｚＡＢＣＤＥＦＧＨＩＪＫＬＭＮＯＰＱＲＳＴＵＶＷＸＹＺ，．／！＠＃＄％＾＆＊（）＜＞？；＇：｛｝＿＋－＝\"\n",
    "dict_val = r\"1234567890abcdefghijklmnopqrstuvwxyzABCDEFGHIJKLMNOPQRSTUVWXYZ,./!@#$%^&*()<>？;':{}_+-=\"\n",
    "dict_ = {}\n",
    "reQuanjiao = re.compile(r'[{0}]'.format(dict_key))\n",
    "for i in range(len(dict_key)):\n",
    "    dict_[dict_key[i]]=dict_val[i]\n",
    "dict_['＂']='\"'\n",
    "\n",
    "def quanjiao2banjiao(mo):\n",
    "    c = mo.group(0)\n",
    "    return dict_[c]\n",
    "\n",
    "txtsrc = re.sub(reQuanjiao,quanjiao2banjiao,txtsrc)\n",
    "print(txtsrc)\n",
    "pyperclip.copy(txtsrc)"
   ]
  },
  {
   "cell_type": "markdown",
   "metadata": {},
   "source": [
    "## manual sequencer"
   ]
  },
  {
   "cell_type": "code",
   "execution_count": null,
   "metadata": {
    "collapsed": true
   },
   "outputs": [],
   "source": [
    "import pyperclip,re\n",
    "txt = pyperclip.paste().strip()\n",
    "delim = \"\"\n",
    "if '\\r' in txt:\n",
    "    delim += '\\r'\n",
    "if '\\n' in txt:\n",
    "    delim += '\\n'\n",
    "print('delim:%r'%delim)\n",
    "startNum = 1\n",
    "tlist = txt.split(delim)\n",
    "for i in range(len(tlist)):\n",
    "    tlist[i] = startNum+i\n",
    "tlist = list(map(lambda e:str(e),tlist))\n",
    "rst = delim.join(tlist)\n",
    "print(rst)\n",
    "pyperclip.copy(rst)"
   ]
  },
  {
   "cell_type": "markdown",
   "metadata": {},
   "source": [
    "## gene sequence converter"
   ]
  },
  {
   "cell_type": "code",
   "execution_count": null,
   "metadata": {
    "collapsed": true
   },
   "outputs": [],
   "source": [
    "import pyperclip\n",
    "class converter:\n",
    "    dict_ = {\n",
    "    'a':'t',\n",
    "    't':'a',\n",
    "    'c':'g',\n",
    "    'g':'c',\n",
    "    }\n",
    "    def __init__(self,seq):\n",
    "        self.seq = seq.lower()\n",
    "        self.seqlist = list(self.seq)\n",
    "    def complement(self):\n",
    "        self.seqlist = list(map(lambda e:self.dict_[e],self.seqlist))\n",
    "        return self\n",
    "    def dna2rna(self):\n",
    "        self.seqlist = list(map(lambda e:e.replace('t','u'),self.seqlist))\n",
    "        return self\n",
    "    def rna2dna(self):\n",
    "        self.seqlist = list(map(lambda e:e.replace('u','t'),self.seqlist))\n",
    "        return self\n",
    "    def reverse(self):\n",
    "        self.seqlist.reverse()\n",
    "        return self\n",
    "    def getSeq(self):\n",
    "        return ''.join(self.seqlist)\n",
    "    \n",
    "seqori = pyperclip.paste()  \n",
    "seq1 = converter(seqori)\n",
    "rst = seq1.rna2dna().complement().dna2rna().reverse().getSeq()\n",
    "print(rst)\n",
    "pyperclip.copy(rst)"
   ]
  },
  {
   "cell_type": "markdown",
   "metadata": {},
   "source": [
    "## 文库文档下载"
   ]
  },
  {
   "cell_type": "code",
   "execution_count": null,
   "metadata": {
    "collapsed": true
   },
   "outputs": [],
   "source": [
    "from selenium import webdriver\n",
    "from selenium.webdriver.common.keys import Keys\n",
    "import re\n",
    "from selenium.webdriver.support.ui import WebDriverWait\n",
    "import time\n",
    "import pyperclip\n",
    "browser = webdriver.Chrome()\n",
    "browser.get('https://wenku.baidu.com/view/6b5d50c608a1284ac850438e.html')\n",
    "# first finishe fire up the driver and load the page"
   ]
  },
  {
   "cell_type": "code",
   "execution_count": null,
   "metadata": {
    "collapsed": true,
    "scrolled": false
   },
   "outputs": [],
   "source": [
    "moreBtn = browser.find_element_by_class_name('moreBtn')\n",
    "moreBtn.click()\n",
    "pageInput = browser.find_element_by_class_name('page-input')\n",
    "datalist = []\n",
    "reTopVal = re.compile(r'top: (\\d+)px')\n",
    "def contentExtract(pageNum):\n",
    "    pageInput.clear()\n",
    "    pageInput.send_keys(str(pageNum))\n",
    "    pageInput.send_keys(u'\\ue007')\n",
    "    pageElemId = \"pageNo-\"+str(pageNum)\n",
    "    print(pageElemId)\n",
    "    time.sleep(1)\n",
    "    elem = browser.find_element_by_id(pageElemId)\n",
    "    subelems = elem.find_elements_by_class_name(\"reader-word-layer\")\n",
    "    def getYpos(e):\n",
    "        \"\"\"获取一个字符block的style里面的top属性，相关的regex在函数外面已经compile完成\"\"\"\n",
    "        mo = reTopVal.search(e.get_attribute('style'))\n",
    "        return mo.group(1)\n",
    "    def lineMerging(elems):\n",
    "        \"\"\"根据位置top信息判断是否属于一行，如果是新的一行加上换行符以后再连接文字\"\"\"\n",
    "        topTemp = \"\"\n",
    "        rstString = \"\"\n",
    "        for e in elems:\n",
    "            if topTemp == getYpos(e):\n",
    "                rstString += e.text\n",
    "            else:\n",
    "                topTemp = getYpos(e)\n",
    "                rstString += '\\r\\n' + e.text\n",
    "        return rstString\n",
    "    return lineMerging(subelems)\n",
    "pageTtl = int(browser.find_element_by_class_name('page-count').text[1:])\n",
    "# 这里根据最大页码手动填写一下范围。如果最大页码在50页以内就可以直接用pageTtl，但是如果超过了50页，这里要分两块才行\n",
    "for i in range(pageTtl):\n",
    "    print(i+1)\n",
    "    datalist.append(contentExtract(i+1))\n",
    "pyperclip.copy('\\r\\n'.join(datalist))"
   ]
  },
  {
   "cell_type": "markdown",
   "metadata": {},
   "source": [
    "## 手动提取百度文档页面内容"
   ]
  },
  {
   "cell_type": "code",
   "execution_count": 2,
   "metadata": {
    "collapsed": true
   },
   "outputs": [],
   "source": [
    "txt = \"\"\"<div class=\"ie-fix\"><p class=\"reader-word-layer reader-word-s1-1\" style=\"width:36px;height:155px;line-height:155px;top:707px;left:8133px;z-index:2;font-size:144px;font-family:simsun;\"> \n",
    "</p><p class=\"reader-word-layer reader-word-s1-3\" style=\"width:1583px;height:225px;line-height:225px;top:1297px;left:2641px;z-index:3;letter-spacing:0.28px;false\">依托远程医学网</p><p class=\"reader-word-layer reader-word-s1-2\" style=\"width:112px;height:225px;line-height:225px;top:1297px;left:4225px;z-index:4;font-family:'宋体','811f83cd360cba1aa811da820030001','宋体';font-family:simsun;\"> </p><p class=\"reader-word-layer reader-word-s1-3\" style=\"width:2487px;height:225px;line-height:225px;top:1297px;left:4451px;z-index:5;letter-spacing:0.16px;false\">开展远程会诊和远程教学</p><p class=\"reader-word-layer reader-word-s1-2\" style=\"width:56px;height:225px;line-height:225px;top:1297px;left:6939px;z-index:6;font-family:'Times New Roman Bold','811f83cd360cba1aa811da820040001','Times New Roman Bold';font-family:simsun;\"> \n",
    "</p><p class=\"reader-word-layer reader-word-s1-7\" style=\"width:784px;height:193px;line-height:193px;top:1914px;left:1834px;z-index:7;false\">远程医学</p><p class=\"reader-word-layer reader-word-s1-8\" style=\"width:1166px;height:193px;line-height:193px;top:1914px;left:2622px;z-index:8;letter-spacing:-0.9199999999999999px;false\">(Telemedicine)</p><p class=\"reader-word-layer reader-word-s1-6\" style=\"width:4333px;height:193px;line-height:193px;top:1914px;left:3795px;z-index:9;letter-spacing:3.76px;false\">是指借助现代远程通信技术与计算机多媒体技术相</p><p class=\"reader-word-layer reader-word-s1-6\" style=\"width:2524px;height:193px;line-height:193px;top:2165px;left:1448px;z-index:10;letter-spacing:1.08px;false\">结合提供医疗和医学信息服务</p><p class=\"reader-word-layer reader-word-s1-8\" style=\"width:224px;height:193px;line-height:193px;top:2165px;left:3974px;z-index:11;letter-spacing:-0.36px;false\">[1]</p><p class=\"reader-word-layer reader-word-s1-6\" style=\"width:2717px;height:193px;line-height:193px;top:2165px;left:4200px;z-index:12;letter-spacing:0.99px;false\">。随着现代信息技术的高速发展</p><p class=\"reader-word-layer reader-word-s1-8\" style=\"width:48px;height:193px;line-height:193px;top:2165px;left:6920px;z-index:13;\">,</p><p class=\"reader-word-layer reader-word-s1-6\" style=\"width:1163px;height:193px;line-height:193px;top:2165px;left:6970px;z-index:14;letter-spacing:0.97px;false\">它已渗透到医</p><p class=\"reader-word-layer reader-word-s1-9\" style=\"width:1160px;height:193px;line-height:193px;top:2416px;left:1448px;z-index:15;false\">学的各个领域</p><p class=\"reader-word-layer reader-word-s1-8\" style=\"width:48px;height:193px;line-height:193px;top:2416px;left:2609px;z-index:16;\">,</p><p class=\"reader-word-layer reader-word-s1-10\" style=\"width:2322px;height:193px;line-height:193px;top:2416px;left:2659px;z-index:17;false\">涵盖了三个方面的医学内容</p><p class=\"reader-word-layer reader-word-s1-8\" style=\"width:48px;height:193px;line-height:193px;top:2416px;left:4982px;z-index:18;\">,</p><p class=\"reader-word-layer reader-word-s1-11\" style=\"width:3096px;height:193px;line-height:193px;top:2416px;left:5033px;z-index:19;false\">包括远程医疗、远程教学、远程医学</p><p class=\"reader-word-layer reader-word-s1-6\" style=\"width:1158px;height:193px;line-height:193px;top:2667px;left:1448px;z-index:20;false\">信息服务等。</p><p class=\"reader-word-layer reader-word-s1-6\" style=\"width:5600px;height:193px;line-height:193px;top:2667px;left:2531px;z-index:21;false\">利用远程医学方式可以最大范围地共享国内乃至世界范围内的医疗</p><p class=\"reader-word-layer reader-word-s1-6\" style=\"width:772px;height:193px;line-height:193px;top:2918px;left:1448px;z-index:22;false\">卫生资源</p><p class=\"reader-word-layer reader-word-s1-8\" style=\"width:48px;height:193px;line-height:193px;top:2918px;left:2221px;z-index:23;\">,</p><p class=\"reader-word-layer reader-word-s1-6\" style=\"width:2124px;height:193px;line-height:193px;top:2918px;left:2269px;z-index:24;false\">它具有广阔的发展前景。</p><p class=\"reader-word-layer reader-word-s1-8\" style=\"width:386px;height:193px;line-height:193px;top:2918px;left:4366px;z-index:25;false\">2006</p><p class=\"reader-word-layer reader-word-s1-6\" style=\"width:193px;height:193px;line-height:193px;top:2918px;left:4801px;z-index:26;\">年</p><p class=\"reader-word-layer reader-word-s1-8\" style=\"width:96px;height:193px;line-height:193px;top:2918px;left:5042px;z-index:27;\">3</p><p class=\"reader-word-layer reader-word-s1-6\" style=\"width:193px;height:193px;line-height:193px;top:2918px;left:5187px;z-index:28;\">月</p><p class=\"reader-word-layer reader-word-s1-8\" style=\"width:48px;height:193px;line-height:193px;top:2918px;left:5381px;z-index:29;\">,</p><p class=\"reader-word-layer reader-word-s1-6\" style=\"width:2703px;height:193px;line-height:193px;top:2918px;left:5429px;z-index:30;false\">我院建成了军队双向远程医学信</p><p class=\"reader-word-layer reader-word-s1-6\" style=\"width:386px;height:193px;line-height:193px;top:3169px;left:1448px;z-index:31;false\">息网</p><p class=\"reader-word-layer reader-word-s1-8\" style=\"width:96px;height:193px;line-height:193px;top:3169px;left:1834px;z-index:32;false\">, </p><p class=\"reader-word-layer reader-word-s1-6\" style=\"width:2124px;height:193px;line-height:193px;top:3169px;left:1979px;z-index:33;false\">开始为临床提供远程会诊</p><p class=\"reader-word-layer reader-word-s1-8\" style=\"width:48px;height:193px;line-height:193px;top:3169px;left:4104px;z-index:34;\">,</p><p class=\"reader-word-layer reader-word-s1-6\" style=\"width:3668px;height:193px;line-height:193px;top:3169px;left:4152px;z-index:35;false\">为科研训练提供教学服务。具体做法如下。</p><p class=\"reader-word-layer reader-word-s1-8\" style=\"width:48px;height:193px;line-height:193px;top:3169px;left:7822px;z-index:36;font-family:simsun;\"> \n",
    "</p><p class=\"reader-word-layer reader-word-s1-8\" style=\"width:48px;height:207px;line-height:207px;top:3420px;left:1834px;z-index:37;font-family:simsun;\"> \n",
    "</p><p class=\"reader-word-layer reader-word-s1-8\" style=\"width:96px;height:207px;line-height:207px;top:3671px;left:1834px;z-index:38;\">1</p><p class=\"reader-word-layer reader-word-s1-6\" style=\"width:1158px;height:207px;line-height:207px;top:3671px;left:1979px;z-index:39;false\">远程医学业务</p><p class=\"reader-word-layer reader-word-s1-8\" style=\"width:48px;height:207px;line-height:207px;top:3671px;left:3138px;z-index:40;font-family:simsun;\"> </p><p class=\"reader-word-layer reader-word-s1-8\" style=\"width:48px;height:207px;line-height:207px;top:3922px;left:1834px;z-index:41;font-family:simsun;\"> \n",
    "</p><p class=\"reader-word-layer reader-word-s1-8\" style=\"width:241px;height:207px;line-height:207px;top:4173px;left:1834px;z-index:42;false\">1.1</p><p class=\"reader-word-layer reader-word-s1-6\" style=\"width:2124px;height:207px;line-height:207px;top:4173px;left:2124px;z-index:43;false\">远程会诊准备病人病历、</p><p class=\"reader-word-layer reader-word-s1-6\" style=\"width:1737px;height:207px;line-height:207px;top:4173px;left:4221px;z-index:44;false\">化验检查等会诊资料</p><p class=\"reader-word-layer reader-word-s1-8\" style=\"width:48px;height:207px;line-height:207px;top:4173px;left:5960px;z-index:45;\">,</p><p class=\"reader-word-layer reader-word-s1-6\" style=\"width:2124px;height:207px;line-height:207px;top:4173px;left:6008px;z-index:46;false\">通过远程会诊软件提供给</p><p class=\"reader-word-layer reader-word-s1-6\" style=\"width:1544px;height:193px;line-height:193px;top:4424px;left:1448px;z-index:47;false\">选定的知名专家。</p><p class=\"reader-word-layer reader-word-s1-6\" style=\"width:1158px;height:193px;line-height:193px;top:4424px;left:2966px;z-index:48;false\">在约定的时间</p><p class=\"reader-word-layer reader-word-s1-8\" style=\"width:48px;height:193px;line-height:193px;top:4424px;left:4125px;z-index:49;\">,</p><p class=\"reader-word-layer reader-word-s1-6\" style=\"width:1931px;height:193px;line-height:193px;top:4424px;left:4173px;z-index:50;false\">通过远程卫星网络电视</p><p class=\"reader-word-layer reader-word-s1-8\" style=\"width:48px;height:193px;line-height:193px;top:4424px;left:6105px;z-index:51;\">,</p><p class=\"reader-word-layer reader-word-s1-6\" style=\"width:1544px;height:193px;line-height:193px;top:4424px;left:6153px;z-index:52;false\">专家根据病人病情</p><p class=\"reader-word-layer reader-word-s1-8\" style=\"width:48px;height:193px;line-height:193px;top:4424px;left:7698px;z-index:53;\">,</p><p class=\"reader-word-layer reader-word-s1-6\" style=\"width:386px;height:193px;line-height:193px;top:4424px;left:7746px;z-index:54;false\">与医</p><p class=\"reader-word-layer reader-word-s1-12\" style=\"width:2129px;height:193px;line-height:193px;top:4676px;left:1448px;z-index:55;false\">生、患者进行面对面交流</p><p class=\"reader-word-layer reader-word-s1-8\" style=\"width:48px;height:193px;line-height:193px;top:4676px;left:3579px;z-index:56;\">,</p><p class=\"reader-word-layer reader-word-s1-13\" style=\"width:3291px;height:193px;line-height:193px;top:4676px;left:3627px;z-index:57;false\">提出诊疗方案和治疗意见。依托此系统</p><p class=\"reader-word-layer reader-word-s1-8\" style=\"width:48px;height:193px;line-height:193px;top:4676px;left:6920px;z-index:58;\">,</p><p class=\"reader-word-layer reader-word-s1-9\" style=\"width:1160px;height:193px;line-height:193px;top:4676px;left:6970px;z-index:59;false\">我院还可以为</p><p class=\"reader-word-layer reader-word-s1-6\" style=\"width:3668px;height:193px;line-height:193px;top:4927px;left:1448px;z-index:60;false\">其他医院、疗养院提供专家远程医疗服务。</p><p class=\"reader-word-layer reader-word-s1-8\" style=\"width:48px;height:193px;line-height:193px;top:4927px;left:5118px;z-index:61;font-family:simsun;\"> \n",
    "</p><p class=\"reader-word-layer reader-word-s1-8\" style=\"width:48px;height:207px;line-height:207px;top:5178px;left:1834px;z-index:62;font-family:simsun;\"> \n",
    "</p><p class=\"reader-word-layer reader-word-s1-8\" style=\"width:241px;height:207px;line-height:207px;top:5429px;left:1834px;z-index:63;false\">1.2</p><p class=\"reader-word-layer reader-word-s1-6\" style=\"width:5986px;height:207px;line-height:207px;top:5429px;left:2145px;z-index:64;false\">远程教学每周二、四下午组织对口专业的科室人员到远程医学中心收看</p><p class=\"reader-word-layer reader-word-s1-14\" style=\"width:2903px;height:193px;line-height:193px;top:5680px;left:1448px;z-index:65;false\">专家讲座。同时利用现有网络平台</p><p class=\"reader-word-layer reader-word-s1-8\" style=\"width:48px;height:193px;line-height:193px;top:5680px;left:4353px;z-index:66;\">,</p><p class=\"reader-word-layer reader-word-s1-6\" style=\"width:3679px;height:193px;line-height:193px;top:5680px;left:4401px;z-index:67;letter-spacing:0.54px;false\">在视频接收机与计算机网络之间通过电视卡</p><p class=\"reader-word-layer reader-word-s1-8\" style=\"width:48px;height:193px;line-height:193px;top:5680px;left:8083px;z-index:68;\">,</p><p class=\"reader-word-layer reader-word-s1-6\" style=\"width:965px;height:193px;line-height:193px;top:5931px;left:1448px;z-index:69;false\">对新技术、</p><p class=\"reader-word-layer reader-word-s1-6\" style=\"width:2317px;height:193px;line-height:193px;top:5931px;left:2387px;z-index:70;false\">新进展等教学视频进行采集</p><p class=\"reader-word-layer reader-word-s1-8\" style=\"width:48px;height:193px;line-height:193px;top:5931px;left:4704px;z-index:71;\">,</p><p class=\"reader-word-layer reader-word-s1-6\" style=\"width:1544px;height:193px;line-height:193px;top:5931px;left:4753px;z-index:72;false\">发布在院内局域网</p><p class=\"reader-word-layer reader-word-s1-8\" style=\"width:48px;height:193px;line-height:193px;top:5931px;left:6298px;z-index:73;\">,</p><p class=\"reader-word-layer reader-word-s1-6\" style=\"width:1351px;height:193px;line-height:193px;top:5931px;left:6346px;z-index:74;false\">供医务人员点击</p><p class=\"reader-word-layer reader-word-s1-8\" style=\"width:48px;height:193px;line-height:193px;top:5931px;left:7698px;z-index:75;\">,</p><p class=\"reader-word-layer reader-word-s1-6\" style=\"width:386px;height:193px;line-height:193px;top:5931px;left:7746px;z-index:76;false\">方便</p><p class=\"reader-word-layer reader-word-s1-6\" style=\"width:772px;height:193px;line-height:193px;top:6182px;left:1448px;z-index:77;false\">业务学习</p><p class=\"reader-word-layer reader-word-s1-8\" style=\"width:53px;height:193px;line-height:193px;top:6182px;left:2221px;z-index:78;\">;</p><p class=\"reader-word-layer reader-word-s1-9\" style=\"width:2127px;height:193px;line-height:193px;top:6182px;left:2275px;z-index:79;false\">也可以同步进行网上转播</p><p class=\"reader-word-layer reader-word-s1-8\" style=\"width:48px;height:193px;line-height:193px;top:6182px;left:4405px;z-index:80;\">,</p><p class=\"reader-word-layer reader-word-s1-6\" style=\"width:3674px;height:193px;line-height:193px;top:6182px;left:4453px;z-index:81;letter-spacing:0.29000000000000004px;false\">工作人员可在办公计算机网络终端上实时收</p><p class=\"reader-word-layer reader-word-s1-6\" style=\"width:193px;height:193px;line-height:193px;top:6433px;left:1448px;z-index:82;\">看</p><p class=\"reader-word-layer reader-word-s1-8\" style=\"width:48px;height:193px;line-height:193px;top:6433px;left:1641px;z-index:83;\">,</p><p class=\"reader-word-layer reader-word-s1-6\" style=\"width:3089px;height:193px;line-height:193px;top:6433px;left:1689px;z-index:84;false\">提高医学信息的传播速度和收视率。</p><p class=\"reader-word-layer reader-word-s1-8\" style=\"width:48px;height:193px;line-height:193px;top:6433px;left:4780px;z-index:85;font-family:simsun;\"> \n",
    "</p><p class=\"reader-word-layer reader-word-s1-8\" style=\"width:48px;height:207px;line-height:207px;top:6684px;left:1834px;z-index:86;font-family:simsun;\"> \n",
    "</p><p class=\"reader-word-layer reader-word-s1-8\" style=\"width:241px;height:207px;line-height:207px;top:6935px;left:1834px;z-index:87;false\">1.3</p><p class=\"reader-word-layer reader-word-s1-6\" style=\"width:3510px;height:207px;line-height:207px;top:6935px;left:2174px;z-index:88;letter-spacing:1.8900000000000001px;false\">图书情报检索远程登录解放军医学图书馆</p><p class=\"reader-word-layer reader-word-s1-8\" style=\"width:48px;height:207px;line-height:207px;top:6935px;left:5689px;z-index:89;\">,</p><p class=\"reader-word-layer reader-word-s1-6\" style=\"width:1950px;height:207px;line-height:207px;top:6935px;left:5740px;z-index:90;letter-spacing:1.98px;false\">联网查询医学图书信息</p><p class=\"reader-word-layer reader-word-s1-8\" style=\"width:48px;height:207px;line-height:207px;top:6935px;left:7692px;z-index:91;\">,</p><p class=\"reader-word-layer reader-word-s1-6\" style=\"width:388px;height:207px;line-height:207px;top:6935px;left:7743px;z-index:92;letter-spacing:1.7999999999999998px;false\">为读</p><p class=\"reader-word-layer reader-word-s1-11\" style=\"width:3096px;height:193px;line-height:193px;top:7186px;left:1448px;z-index:93;false\">者服务。共享军内医学图书信息资源</p><p class=\"reader-word-layer reader-word-s1-8\" style=\"width:48px;height:193px;line-height:193px;top:7186px;left:4546px;z-index:94;\">,</p><p class=\"reader-word-layer reader-word-s1-14\" style=\"width:1548px;height:193px;line-height:193px;top:7186px;left:4596px;z-index:95;false\">方便了各单位使用</p><p class=\"reader-word-layer reader-word-s1-8\" style=\"width:48px;height:193px;line-height:193px;top:7186px;left:6145px;z-index:96;\">,</p><p class=\"reader-word-layer reader-word-s1-6\" style=\"width:1936px;height:193px;line-height:193px;top:7186px;left:6193px;z-index:97;letter-spacing:0.53px;false\">提高了军队医学信息资</p><p class=\"reader-word-layer reader-word-s1-6\" style=\"width:965px;height:193px;line-height:193px;top:7437px;left:1448px;z-index:98;false\">源利用率。</p><p class=\"reader-word-layer reader-word-s1-8\" style=\"width:48px;height:193px;line-height:193px;top:7437px;left:2414px;z-index:99;font-family:simsun;\"> \n",
    "</p><p class=\"reader-word-layer reader-word-s1-8\" style=\"width:48px;height:207px;line-height:207px;top:7688px;left:1834px;z-index:100;font-family:simsun;\"> \n",
    "</p><p class=\"reader-word-layer reader-word-s1-8\" style=\"width:241px;height:207px;line-height:207px;top:7939px;left:1834px;z-index:101;false\">1.4</p><p class=\"reader-word-layer reader-word-s1-6\" style=\"width:5572px;height:207px;line-height:207px;top:7939px;left:2124px;z-index:102;letter-spacing:-0.8999999999999999px;false\">开展网上新技术、新业务技术交流强化与其他疗养院、医院的合作</p><p class=\"reader-word-layer reader-word-s1-8\" style=\"width:48px;height:207px;line-height:207px;top:7939px;left:7698px;z-index:103;\">,</p><p class=\"reader-word-layer reader-word-s1-6\" style=\"width:386px;height:207px;line-height:207px;top:7939px;left:7746px;z-index:104;false\">扩大</p><p class=\"reader-word-layer reader-word-s1-6\" style=\"width:1158px;height:193px;line-height:193px;top:8190px;left:1448px;z-index:105;false\">远程医疗范围</p><p class=\"reader-word-layer reader-word-s1-8\" style=\"width:48px;height:193px;line-height:193px;top:8190px;left:2607px;z-index:106;\">,</p><p class=\"reader-word-layer reader-word-s1-6\" style=\"width:2510px;height:193px;line-height:193px;top:8190px;left:2655px;z-index:107;false\">如病理会诊、远程护理等项目</p><p class=\"reader-word-layer reader-word-s1-8\" style=\"width:48px;height:193px;line-height:193px;top:8190px;left:5166px;z-index:108;\">,</p><p class=\"reader-word-layer reader-word-s1-6\" style=\"width:2317px;height:193px;line-height:193px;top:8190px;left:5214px;z-index:109;false\">促进疗养院业务整体发展。</p><p class=\"reader-word-layer reader-word-s1-8\" style=\"width:48px;height:193px;line-height:193px;top:8190px;left:7532px;z-index:110;font-family:simsun;\"> \n",
    "</p><p class=\"reader-word-layer reader-word-s1-8\" style=\"width:48px;height:207px;line-height:207px;top:8441px;left:1834px;z-index:111;font-family:simsun;\"> \n",
    "</p><p class=\"reader-word-layer reader-word-s1-8\" style=\"width:96px;height:207px;line-height:207px;top:8692px;left:1834px;z-index:112;\">2</p><p class=\"reader-word-layer reader-word-s1-6\" style=\"width:1544px;height:207px;line-height:207px;top:8692px;left:1979px;z-index:113;false\">远程医学应用效果</p><p class=\"reader-word-layer reader-word-s1-8\" style=\"width:48px;height:207px;line-height:207px;top:8692px;left:3524px;z-index:114;font-family:simsun;\"> </p><p class=\"reader-word-layer reader-word-s1-8\" style=\"width:48px;height:207px;line-height:207px;top:8943px;left:1834px;z-index:115;font-family:simsun;\"> \n",
    "</p><p class=\"reader-word-layer reader-word-s1-8\" style=\"width:241px;height:207px;line-height:207px;top:9195px;left:1834px;z-index:116;false\">2.1</p><p class=\"reader-word-layer reader-word-s1-7\" style=\"width:5511px;height:207px;line-height:207px;top:9195px;left:2176px;z-index:117;false\">提高医生诊疗水平参与远程会诊对医生来说也是一个学习的过程</p><p class=\"reader-word-layer reader-word-s1-8\" style=\"width:48px;height:207px;line-height:207px;top:9195px;left:7692px;z-index:118;\">,</p><p class=\"reader-word-layer reader-word-s1-7\" style=\"width:390px;height:207px;line-height:207px;top:9195px;left:7745px;z-index:119;false\">通过</p><p class=\"reader-word-layer reader-word-s1-9\" style=\"width:1160px;height:193px;line-height:193px;top:9446px;left:1448px;z-index:120;false\">与专家的交流</p><p class=\"reader-word-layer reader-word-s1-8\" style=\"width:48px;height:193px;line-height:193px;top:9446px;left:2609px;z-index:121;\">,</p><p class=\"reader-word-layer reader-word-s1-10\" style=\"width:4451px;height:193px;line-height:193px;top:9446px;left:2659px;z-index:122;false\">对于掌握疾病诊疗知识会得到不同程度的补充和完善</p><p class=\"reader-word-layer reader-word-s1-8\" style=\"width:48px;height:193px;line-height:193px;top:9446px;left:7115px;z-index:123;\">,</p><p class=\"reader-word-layer reader-word-s1-6\" style=\"width:967px;height:193px;line-height:193px;top:9446px;left:7163px;z-index:124;letter-spacing:0.4px;false\">不但巩固了</p><p class=\"reader-word-layer reader-word-s1-6\" style=\"width:1351px;height:193px;line-height:193px;top:9697px;left:1448px;z-index:125;false\">以前所学的知识</p><p class=\"reader-word-layer reader-word-s1-8\" style=\"width:48px;height:193px;line-height:193px;top:9697px;left:2800px;z-index:126;\">,</p><p class=\"reader-word-layer reader-word-s1-6\" style=\"width:2510px;height:193px;line-height:193px;top:9697px;left:2848px;z-index:127;false\">还可以了解本专业的发展动态</p><p class=\"reader-word-layer reader-word-s1-8\" style=\"width:48px;height:193px;line-height:193px;top:9697px;left:5359px;z-index:128;\">,</p><p class=\"reader-word-layer reader-word-s1-6\" style=\"width:1158px;height:193px;line-height:193px;top:9697px;left:5408px;z-index:129;false\">掌握新知识。</p><p class=\"reader-word-layer reader-word-s1-6\" style=\"width:1544px;height:193px;line-height:193px;top:9697px;left:6539px;z-index:130;false\">与专家对话的过程</p><p class=\"reader-word-layer reader-word-s1-8\" style=\"width:48px;height:193px;line-height:193px;top:9697px;left:8084px;z-index:131;\">,</p><p class=\"reader-word-layer reader-word-s1-6\" style=\"width:1737px;height:193px;line-height:193px;top:9948px;left:1448px;z-index:132;false\">也是学习提高的过程</p><p class=\"reader-word-layer reader-word-s1-8\" style=\"width:48px;height:193px;line-height:193px;top:9948px;left:3187px;z-index:133;\">,</p><p class=\"reader-word-layer reader-word-s1-6\" style=\"width:4055px;height:193px;line-height:193px;top:9948px;left:3235px;z-index:134;false\">通过与知名专家对话提高医生的临床诊疗水平。</p><p class=\"reader-word-layer reader-word-s1-8\" style=\"width:48px;height:193px;line-height:193px;top:9948px;left:7291px;z-index:135;font-family:simsun;\"> \n",
    "</p><p class=\"reader-word-layer reader-word-s1-8\" style=\"width:48px;height:207px;line-height:207px;top:10199px;left:1834px;z-index:136;font-family:simsun;\"> \n",
    "</p><p class=\"reader-word-layer reader-word-s1-8\" style=\"width:241px;height:207px;line-height:207px;top:10450px;left:1834px;z-index:137;false\">2.2</p><p class=\"reader-word-layer reader-word-s1-7\" style=\"width:3935px;height:207px;line-height:207px;top:10450px;left:2176px;z-index:138;false\">方便患者治疗疾病我院地处秦皇岛市北戴河区</p><p class=\"reader-word-layer reader-word-s1-8\" style=\"width:48px;height:207px;line-height:207px;top:10450px;left:6116px;z-index:139;\">,</p><p class=\"reader-word-layer reader-word-s1-7\" style=\"width:1965px;height:207px;line-height:207px;top:10450px;left:6168px;z-index:140;false\">周边地区经济和交通不</p><p class=\"reader-word-layer reader-word-s1-6\" style=\"width:587px;height:193px;line-height:193px;top:10701px;left:1448px;z-index:141;letter-spacing:3.59px;false\">很发达</p><p class=\"reader-word-layer reader-word-s1-8\" style=\"width:48px;height:193px;line-height:193px;top:10701px;left:2041px;z-index:142;\">,</p><p class=\"reader-word-layer reader-word-s1-6\" style=\"width:2764px;height:193px;line-height:193px;top:10701px;left:2093px;z-index:143;letter-spacing:4.38px;false\">前来就诊的病人多数为农村患者</p><p class=\"reader-word-layer reader-word-s1-8\" style=\"width:48px;height:193px;line-height:193px;top:10701px;left:4865px;z-index:144;\">,</p><p class=\"reader-word-layer reader-word-s1-6\" style=\"width:2762px;height:193px;line-height:193px;top:10701px;left:4919px;z-index:145;letter-spacing:4.25px;false\">对于疑难重症病例进行远程会诊</p><p class=\"reader-word-layer reader-word-s1-8\" style=\"width:48px;height:193px;line-height:193px;top:10701px;left:7689px;z-index:146;\">,</p><p class=\"reader-word-layer reader-word-s1-7\" style=\"width:390px;height:193px;line-height:193px;top:10701px;left:7743px;z-index:147;false\">不仅</p><p class=\"reader-word-layer reader-word-s1-6\" style=\"width:2340px;height:193px;line-height:193px;top:10952px;left:1448px;z-index:148;letter-spacing:1.94px;false\">减少了患者求医行程和难度</p><p class=\"reader-word-layer reader-word-s1-8\" style=\"width:48px;height:193px;line-height:193px;top:10952px;left:3791px;z-index:149;\">,</p><p class=\"reader-word-layer reader-word-s1-6\" style=\"width:4288px;height:193px;line-height:193px;top:10952px;left:3841px;z-index:150;letter-spacing:1.79px;false\">还节约了诊疗费用。更重要的是拉近了患者与军队</p><p class=\"reader-word-layer reader-word-s1-12\" style=\"width:2129px;height:193px;line-height:193px;top:11203px;left:1448px;z-index:151;false\">各大医院知名专家的距离</p><p class=\"reader-word-layer reader-word-s1-8\" style=\"width:48px;height:193px;line-height:193px;top:11203px;left:3579px;z-index:152;\">,</p><p class=\"reader-word-layer reader-word-s1-13\" style=\"width:3291px;height:193px;line-height:193px;top:11203px;left:3627px;z-index:153;false\">能及时得到大医院知名专家的诊疗服务</p><p class=\"reader-word-layer reader-word-s1-8\" style=\"width:48px;height:193px;line-height:193px;top:11203px;left:6920px;z-index:154;\">,</p><p class=\"reader-word-layer reader-word-s1-9\" style=\"width:1160px;height:193px;line-height:193px;top:11203px;left:6970px;z-index:155;false\">使病情能得到</p><p class=\"reader-word-layer reader-word-s1-6\" style=\"width:1544px;height:193px;line-height:193px;top:11454px;left:1448px;z-index:156;false\">及时、有效的控制</p><p class=\"reader-word-layer reader-word-s1-8\" style=\"width:48px;height:193px;line-height:193px;top:11454px;left:2993px;z-index:157;\">,</p><p class=\"reader-word-layer reader-word-s1-6\" style=\"width:3475px;height:193px;line-height:193px;top:11454px;left:3042px;z-index:158;false\">为广大患者的及时治疗赢得宝贵的时间。</p><p class=\"reader-word-layer reader-word-s1-8\" style=\"width:48px;height:193px;line-height:193px;top:11454px;left:6518px;z-index:159;font-family:simsun;\"> </p><p class=\"reader-word-layer reader-word-s1-8\" style=\"width:48px;height:193px;line-height:193px;top:11454px;left:6614px;z-index:160;font-family:simsun;\"> \n",
    "</p><p class=\"reader-word-layer reader-word-s1-8\" style=\"width:48px;height:207px;line-height:207px;top:11705px;left:1834px;z-index:161;font-family:simsun;\"> \n",
    "</p><p class=\"reader-word-layer reader-word-s1-8\" style=\"width:241px;height:207px;line-height:207px;top:11956px;left:1834px;z-index:162;false\">2.3</p><p class=\"reader-word-layer reader-word-s1-6\" style=\"width:4526px;height:207px;line-height:207px;top:11956px;left:2176px;z-index:163;letter-spacing:3.62px;false\">有利于医务人员的业务学习随着医学信息的迅速发展</p><p class=\"reader-word-layer reader-word-s1-8\" style=\"width:48px;height:207px;line-height:207px;top:11956px;left:6707px;z-index:164;\">,</p><p class=\"reader-word-layer reader-word-s1-7\" style=\"width:1374px;height:207px;line-height:207px;top:11956px;left:6759px;z-index:165;false\">新的医学和医疗\n",
    "</p></div>\"\"\""
   ]
  },
  {
   "cell_type": "code",
   "execution_count": 12,
   "metadata": {},
   "outputs": [],
   "source": [
    "from bs4 import BeautifulSoup as bs\n",
    "import pyperclip as pclp\n",
    "import re\n",
    "txt = pclp.paste()\n",
    "soup = bs(txt,'html.parser')\n",
    "\n",
    "reTopVal = re.compile(r'top:\\s?(\\d+)px')\n",
    "\n",
    "def getYpos(e):\n",
    "    \"\"\"获取一个字符block的style里面的top属性，相关的regex在函数外面已经compile完成\"\"\"\n",
    "    mo = reTopVal.search(e.attrs['style'])\n",
    "    return mo.group(1)\n",
    "def lineMerging(elems):\n",
    "    \"\"\"根据位置top信息判断是否属于一行，如果是新的一行加上换行符以后再连接文字\"\"\"\n",
    "    topTemp = \"\"\n",
    "    rstString = \"\"\n",
    "    for e in elems:\n",
    "        if topTemp == getYpos(e):\n",
    "            rstString += e.text\n",
    "        else:\n",
    "            topTemp = getYpos(e)\n",
    "            rstString += '\\r\\n' + e.text\n",
    "    return rstString\n",
    "paraElems = soup.find_all('p')\n",
    "rst = lineMerging(paraElems)\n",
    "pclp.copy(rst)"
   ]
  },
  {
   "cell_type": "markdown",
   "metadata": {},
   "source": [
    "## 在文件夹名字前面加上拼音首字母前缀\n"
   ]
  },
  {
   "cell_type": "code",
   "execution_count": null,
   "metadata": {
    "collapsed": true
   },
   "outputs": [],
   "source": [
    "from pypinyin import lazy_pinyin\n",
    "import os,shutil,re,pyperclip\n",
    "pathofcwd = pyperclip.paste()\n",
    "assert os.path.isdir(pathofcwd),'\"{}\" is not path'.format(pathofcwd)\n",
    "os.chdir(pyperclip.paste())\n",
    "reChnFirst = re.compile(r'[\\u4e00-\\u9fa5]')\n",
    "dirList = list(filter(lambda e:os.path.isdir(e) and reChnFirst.match(e.strip()) != None,os.listdir()))\n",
    "  \n",
    "def renameDirWithPY (dirname):\n",
    "    prefix = ''\n",
    "    for e in lazy_pinyin(dirname)[:3]:\n",
    "        prefix += e[0]\n",
    "    prefix += '_'\n",
    "    return prefix+dirname\n",
    "\n",
    "for e in dirList:\n",
    "    shutil.move(e,renameDirWithPY(e))\n",
    " \n",
    "os.listdir()"
   ]
  },
  {
   "cell_type": "markdown",
   "metadata": {},
   "source": [
    "## 将奇数页的pdf末尾补平"
   ]
  },
  {
   "cell_type": "code",
   "execution_count": null,
   "metadata": {
    "collapsed": true
   },
   "outputs": [],
   "source": [
    "import os,PyPDF2,pyperclip\n",
    "pathofcwd = r\"D:\\junming zheng\\CloudStation\\...\"\n",
    "# ^ 需要处理的pdf存放位置\n",
    "class pdfReader:\n",
    "    # ^ 处理pdf的一个类，把和pdf处理有关的代码都放在这里了\n",
    "    blankPdfPath = r'D:\\junming zheng\\smallToolsGit\\smallTools\\...'\n",
    "    # ^ 空白页pdf存放位置\n",
    "    def __init__(self,pdfPath):\n",
    "        self.pdfPath = pdfPath\n",
    "        self.blankPageFile, self.blankPage = self.openAndReadit(self.blankPdfPath)\n",
    "        self.pdfFile, self.pdfReader = self.openAndReadit(self.pdfPath)\n",
    "    \n",
    "    def openAndReadit(self,pdfpath):\n",
    "        \"\"\"\n",
    "        generate the pdfReader object for given path in parameter\n",
    "        \"\"\"\n",
    "        pdfFile = open(pdfpath, 'rb')\n",
    "        pdfReader = PyPDF2.PdfFileReader(pdfFile)\n",
    "        return (pdfFile,pdfReader)\n",
    "\n",
    "    def appendBlank(self):\n",
    "        \"\"\"\n",
    "        no para, return a pdf writer with blankPage appended\n",
    "        \"\"\"\n",
    "        pdfWriter = PyPDF2.PdfFileWriter()\n",
    "        for pageNum in range(self.pdfReader.numPages):\n",
    "            pageObj = self.pdfReader.getPage(pageNum)\n",
    "            pdfWriter.addPage(pageObj)\n",
    "        # add the blank page:\n",
    "        pdfWriter.addPage(self.blankPage.getPage(0))\n",
    "        return pdfWriter\n",
    "    \n",
    "    def closeAllFile(self):\n",
    "        self.blankPageFile.close()\n",
    "        self.pdfFile.close()\n",
    "\n",
    "os.chdir(pathofcwd)\n",
    "fileList = os.listdir()\n",
    "\n",
    "pdfList = filter(\n",
    "    lambda e:os.path.splitext(e)[1]=='.pdf',\n",
    "    fileList\n",
    ")\n",
    "# ^ 过滤文件列表，只保留pdf\n",
    "\n",
    "pdfReaderList = map(\n",
    "    lambda e:pdfReader(e),\n",
    "    pdfList\n",
    ")\n",
    "# ^ 根据pdf文件路径生成pdfReader类\n",
    "\n",
    "pdfReaderList = filter(\n",
    "    lambda e: e.pdfReader.numPages % 2 == 1,\n",
    "    pdfReaderList\n",
    ")\n",
    "# ^ 只保留奇数页pdf的pdfReader类\n",
    "\n",
    "pdfReaderList = list(pdfReaderList)\n",
    "\n",
    "for pdfReader in pdfReaderList:\n",
    "    pdfAddBlankWriter = pdfReader.appendBlank()\n",
    "    outputPath = os.path.splitext(pdfReader.pdfPath)[0]+'_addBlank'+'.pdf'\n",
    "    pdfOutputFile = open(outputPath,'wb')\n",
    "    pdfAddBlankWriter.write(pdfOutputFile)\n",
    "    pdfOutputFile.close()\n",
    "    pdfReader.closeAllFile()\n",
    "    print(\"preparing to output as:%s\" % outputPath)\n"
   ]
  },
  {
   "cell_type": "markdown",
   "metadata": {},
   "source": [
    "## markdown >> zhihu recognized markdown\n",
    "\n",
    "知乎现在可以导入markdown，但是对于代码块的支持很奇怪。现在我的工作流是用evermonkey（visual code的一个插件）通过markdown写一个evernote笔记，然后把其中evernote的内容存储成一个md文件，上传到知乎的编辑器里面。但是知乎编辑器对markdown的支持确实很奇怪（只认第一个\\`\\`\\`，后面的是不认的），所以这段代码的作用是把代码块（\\`\\`\\`c# ... \\`\\`\\`）转换成只有开头有\\`\\`\\`"
   ]
  },
  {
   "cell_type": "code",
   "execution_count": 18,
   "metadata": {
    "collapsed": true
   },
   "outputs": [],
   "source": [
    "import os,re\n",
    "os.chdir(r'C:\\Users\\kyk\\Desktop')\n",
    "mdfile = open('test.md',encoding='utf8')\n",
    "mdfileoutput = open('test_out.md','w',encoding='utf8')\n",
    "reCodeBlockStart = re.compile(r'```.+')\n",
    "reCodeBlockEnd = re.compile(r'```$')\n",
    "mdreader = mdfile.readlines()\n",
    "\n",
    "def lineProc(line):\n",
    "    if reCodeBlockEnd.search(line)!=None:\n",
    "        return ''\n",
    "    elif reCodeBlockStart.search(line)!=None:\n",
    "        return '```\\n'\n",
    "    else:\n",
    "        return line\n",
    "#     line里面**有**\\n\n",
    "for line in mdreader:\n",
    "    mdfileoutput.write(lineProc(line))\n",
    "    \n",
    "mdfile.close()\n",
    "mdfileoutput.close()"
   ]
  }
 ],
 "metadata": {
  "anaconda-cloud": {},
  "kernelspec": {
   "display_name": "Python 3",
   "language": "python",
   "name": "python3"
  },
  "language_info": {
   "codemirror_mode": {
    "name": "ipython",
    "version": 3
   },
   "file_extension": ".py",
   "mimetype": "text/x-python",
   "name": "python",
   "nbconvert_exporter": "python",
   "pygments_lexer": "ipython3",
   "version": "3.6.2"
  }
 },
 "nbformat": 4,
 "nbformat_minor": 1
}
