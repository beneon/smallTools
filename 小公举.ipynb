{
 "cells": [
  {
   "cell_type": "markdown",
   "metadata": {},
   "source": [
    "# 若干小工具\n",
    "\n",
    "## 将剪贴板内容去掉\\n，去掉中文之间空格"
   ]
  },
  {
   "cell_type": "code",
   "execution_count": null,
   "metadata": {
    "scrolled": true
   },
   "outputs": [],
   "source": [
    "import pyperclip, re\n",
    "txtsrc = pyperclip.paste()\n",
    "reReturn = re.compile(r'\\r|\\n|\\r\\n')\n",
    "reSpcBetwnChnChara = re.compile(r'([\\u4e00-\\u9fa5])\\s+([\\u4e00-\\u9fa5])')\n",
    "txtsrc = re.sub(reReturn,'',txtsrc)\n",
    "txtsrc = re.sub(reSpcBetwnChnChara,r'\\1\\2',txtsrc)\n",
    "\n",
    "dict_key = r\"１２３４５６７８９０ａｂｃｄｅｆｇｈｉｊｋｌｍｎｏｐｑｒｓｔｕｖｗｘｙｚＡＢＣＤＥＦＧＨＩＪＫＬＭＮＯＰＱＲＳＴＵＶＷＸＹＺ，．／！＠＃＄％＾＆＊（）＜＞？；＇：｛｝＿＋－＝\"\n",
    "dict_val = r\"1234567890abcdefghijklmnopqrstuvwxyzABCDEFGHIJKLMNOPQRSTUVWXYZ,./!@#$%^&*()<>？;':{}_+-=\"\n",
    "dict_ = {}\n",
    "reQuanjiao = re.compile(r'[{0}]'.format(dict_key))\n",
    "for i in range(len(dict_key)):\n",
    "    dict_[dict_key[i]]=dict_val[i]\n",
    "dict_['＂']='\"'\n",
    "\n",
    "def quanjiao2banjiao(mo):\n",
    "    c = mo.group(0)\n",
    "    return dict_[c]\n",
    "\n",
    "txtsrc = re.sub(reQuanjiao,quanjiao2banjiao,txtsrc)\n",
    "print(txtsrc)\n",
    "pyperclip.copy(txtsrc)"
   ]
  },
  {
   "cell_type": "markdown",
   "metadata": {},
   "source": [
    "## manual sequencer"
   ]
  },
  {
   "cell_type": "code",
   "execution_count": null,
   "metadata": {},
   "outputs": [],
   "source": [
    "import pyperclip,re\n",
    "txt = pyperclip.paste().strip()\n",
    "delim = \"\"\n",
    "if '\\r' in txt:\n",
    "    delim += '\\r'\n",
    "if '\\n' in txt:\n",
    "    delim += '\\n'\n",
    "print('delim:%r'%delim)\n",
    "startNum = 1\n",
    "tlist = txt.split(delim)\n",
    "for i in range(len(tlist)):\n",
    "    tlist[i] = startNum+i\n",
    "tlist = list(map(lambda e:str(e),tlist))\n",
    "rst = delim.join(tlist)\n",
    "print(rst)\n",
    "pyperclip.copy(rst)"
   ]
  },
  {
   "cell_type": "markdown",
   "metadata": {},
   "source": [
    "## gene sequence converter"
   ]
  },
  {
   "cell_type": "code",
   "execution_count": null,
   "metadata": {},
   "outputs": [],
   "source": [
    "import pyperclip\n",
    "class converter:\n",
    "    dict_ = {\n",
    "    'a':'t',\n",
    "    't':'a',\n",
    "    'c':'g',\n",
    "    'g':'c',\n",
    "    }\n",
    "    def __init__(self,seq):\n",
    "        self.seq = seq.lower()\n",
    "        self.seqlist = list(self.seq)\n",
    "    def complement(self):\n",
    "        self.seqlist = list(map(lambda e:self.dict_[e],self.seqlist))\n",
    "        return self\n",
    "    def dna2rna(self):\n",
    "        self.seqlist = list(map(lambda e:e.replace('t','u'),self.seqlist))\n",
    "        return self\n",
    "    def rna2dna(self):\n",
    "        self.seqlist = list(map(lambda e:e.replace('u','t'),self.seqlist))\n",
    "        return self\n",
    "    def reverse(self):\n",
    "        self.seqlist.reverse()\n",
    "        return self\n",
    "    def getSeq(self):\n",
    "        return ''.join(self.seqlist)\n",
    "    \n",
    "seqori = pyperclip.paste()  \n",
    "seq1 = converter(seqori)\n",
    "rst = seq1.rna2dna().complement().dna2rna().reverse().getSeq()\n",
    "print(rst)\n",
    "pyperclip.copy(rst)"
   ]
  },
  {
   "cell_type": "markdown",
   "metadata": {},
   "source": [
    "## 文库文档下载"
   ]
  },
  {
   "cell_type": "code",
   "execution_count": null,
   "metadata": {
    "collapsed": true
   },
   "outputs": [],
   "source": [
    "from selenium import webdriver\n",
    "from selenium.webdriver.common.keys import Keys\n",
    "import re\n",
    "from selenium.webdriver.support.ui import WebDriverWait\n",
    "import time\n",
    "import pyperclip\n",
    "browser = webdriver.Chrome()\n",
    "browser.get('https://wenku.baidu.com/view/6b5d50c608a1284ac850438e.html')\n",
    "# first finishe fire up the driver and load the page"
   ]
  },
  {
   "cell_type": "code",
   "execution_count": null,
   "metadata": {
    "scrolled": false
   },
   "outputs": [],
   "source": [
    "moreBtn = browser.find_element_by_class_name('moreBtn')\n",
    "moreBtn.click()\n",
    "pageInput = browser.find_element_by_class_name('page-input')\n",
    "datalist = []\n",
    "reTopVal = re.compile(r'top: (\\d+)px')\n",
    "def contentExtract(pageNum):\n",
    "    pageInput.clear()\n",
    "    pageInput.send_keys(str(pageNum))\n",
    "    pageInput.send_keys(u'\\ue007')\n",
    "    pageElemId = \"pageNo-\"+str(pageNum)\n",
    "    print(pageElemId)\n",
    "    time.sleep(1)\n",
    "    elem = browser.find_element_by_id(pageElemId)\n",
    "    subelems = elem.find_elements_by_class_name(\"reader-word-layer\")\n",
    "    def getYpos(e):\n",
    "        \"\"\"获取一个字符block的style里面的top属性，相关的regex在函数外面已经compile完成\"\"\"\n",
    "        mo = reTopVal.search(e.get_attribute('style'))\n",
    "        return mo.group(1)\n",
    "    def lineMerging(elems):\n",
    "        \"\"\"根据位置top信息判断是否属于一行，如果是新的一行加上换行符以后再连接文字\"\"\"\n",
    "        topTemp = \"\"\n",
    "        rstString = \"\"\n",
    "        for e in elems:\n",
    "            if topTemp == getYpos(e):\n",
    "                rstString += e.text\n",
    "            else:\n",
    "                topTemp = getYpos(e)\n",
    "                rstString += '\\r\\n' + e.text\n",
    "        return rstString\n",
    "    return lineMerging(subelems)\n",
    "pageTtl = int(browser.find_element_by_class_name('page-count').text[1:])\n",
    "# 这里根据最大页码手动填写一下范围。如果最大页码在50页以内就可以直接用pageTtl，但是如果超过了50页，这里要分两块才行\n",
    "for i in range(pageTtl):\n",
    "    print(i+1)\n",
    "    datalist.append(contentExtract(i+1))\n",
    "pyperclip.copy('\\r\\n'.join(datalist))"
   ]
  },
  {
   "cell_type": "markdown",
   "metadata": {},
   "source": [
    "## 在文件夹名字前面加上拼音首字母前缀\n"
   ]
  },
  {
   "cell_type": "code",
   "execution_count": null,
   "metadata": {},
   "outputs": [],
   "source": [
    "from pypinyin import lazy_pinyin\n",
    "import os,shutil,re,pyperclip\n",
    "pathofcwd = pyperclip.paste()\n",
    "assert os.path.isdir(pathofcwd),'\"{}\" is not path'.format(pathofcwd)\n",
    "os.chdir(pyperclip.paste())\n",
    "reChnFirst = re.compile(r'[\\u4e00-\\u9fa5]')\n",
    "dirList = list(filter(lambda e:os.path.isdir(e) and reChnFirst.match(e.strip()) != None,os.listdir()))\n",
    "  \n",
    "def renameDirWithPY (dirname):\n",
    "    prefix = ''\n",
    "    for e in lazy_pinyin(dirname)[:3]:\n",
    "        prefix += e[0]\n",
    "    prefix += '_'\n",
    "    return prefix+dirname\n",
    "\n",
    "for e in dirList:\n",
    "    shutil.move(e,renameDirWithPY(e))\n",
    " \n",
    "os.listdir()"
   ]
  }
 ],
 "metadata": {
  "anaconda-cloud": {},
  "kernelspec": {
   "display_name": "Python 3",
   "language": "python",
   "name": "python3"
  },
  "language_info": {
   "codemirror_mode": {
    "name": "ipython",
    "version": 3
   },
   "file_extension": ".py",
   "mimetype": "text/x-python",
   "name": "python",
   "nbconvert_exporter": "python",
   "pygments_lexer": "ipython3",
   "version": "3.6.2"
  }
 },
 "nbformat": 4,
 "nbformat_minor": 1
}
